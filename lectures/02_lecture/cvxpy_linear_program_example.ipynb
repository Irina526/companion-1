{
 "cells": [
  {
   "cell_type": "code",
   "execution_count": 2,
   "id": "c603f154-d3fc-4864-80d6-2ae0b60de2d7",
   "metadata": {},
   "outputs": [],
   "source": [
    "# Import packages.\n",
    "import cvxpy as cp\n",
    "import numpy as np"
   ]
  },
  {
   "cell_type": "code",
   "execution_count": 3,
   "id": "dff2153c-4160-414f-9617-bebb0ef20bf6",
   "metadata": {},
   "outputs": [],
   "source": [
    "# Generate a random non-trivial linear program.\n",
    "m = 15\n",
    "n = 10\n",
    "np.random.seed(1)\n",
    "s0 = np.random.randn(m)\n",
    "lamb0 = np.maximum(-s0, 0)\n",
    "s0 = np.maximum(s0, 0)\n",
    "x0 = np.random.randn(n)\n",
    "A = np.random.randn(m, n)\n",
    "b = A @ x0 + s0\n",
    "c = -A.T @ lamb0"
   ]
  },
  {
   "cell_type": "code",
   "execution_count": 4,
   "id": "56a37a66-60e8-4d3e-a9b5-751ba9a4109b",
   "metadata": {},
   "outputs": [
    {
     "data": {
      "text/plain": [
       "-15.220912605552863"
      ]
     },
     "execution_count": 4,
     "metadata": {},
     "output_type": "execute_result"
    }
   ],
   "source": [
    "# Define and solve the CVXPY problem.\n",
    "x = cp.Variable(n)\n",
    "prob = cp.Problem(cp.Minimize(c.T@x),\n",
    "                 [A @ x <= b])\n",
    "prob.solve()"
   ]
  },
  {
   "cell_type": "code",
   "execution_count": 5,
   "id": "79f1282d-68e0-42be-8d75-e543ac328b91",
   "metadata": {},
   "outputs": [
    {
     "name": "stdout",
     "output_type": "stream",
     "text": [
      "\n",
      "The optimal value is -15.220912605552863\n",
      "A solution x is\n",
      "[-1.10133381 -0.16360111 -0.89734939  0.03216603  0.6069123  -1.12687348\n",
      "  1.12967856  0.88176638  0.49075229  0.8984822 ]\n",
      "A dual solution is\n",
      "[6.98805172e-10 6.11756416e-01 5.28171747e-01 1.07296862e+00\n",
      " 3.93759300e-09 2.30153870e+00 4.25704434e-10 7.61206896e-01\n",
      " 8.36906030e-09 2.49370377e-01 1.30187120e-09 2.06014070e+00\n",
      " 3.22417207e-01 3.84054343e-01 1.59493839e-09]\n"
     ]
    }
   ],
   "source": [
    "# Print result.\n",
    "print(\"\\nThe optimal value is\", prob.value)\n",
    "print(\"A solution x is\")\n",
    "print(x.value)\n",
    "print(\"A dual solution is\")\n",
    "print(prob.constraints[0].dual_value)"
   ]
  }
 ],
 "metadata": {
  "kernelspec": {
   "display_name": "Python 3 (ipykernel)",
   "language": "python",
   "name": "python3"
  },
  "language_info": {
   "codemirror_mode": {
    "name": "ipython",
    "version": 3
   },
   "file_extension": ".py",
   "mimetype": "text/x-python",
   "name": "python",
   "nbconvert_exporter": "python",
   "pygments_lexer": "ipython3",
   "version": "3.8.5"
  }
 },
 "nbformat": 4,
 "nbformat_minor": 5
}
